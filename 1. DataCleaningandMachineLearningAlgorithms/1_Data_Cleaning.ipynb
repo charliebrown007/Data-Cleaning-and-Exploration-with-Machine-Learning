{
 "cells": [
  {
   "cell_type": "markdown",
   "metadata": {},
   "source": [
    "### 1. Limpieza de datos"
   ]
  },
  {
   "cell_type": "code",
   "execution_count": 2,
   "metadata": {},
   "outputs": [],
   "source": [
    "# Librerías\n",
    "import pandas as pd\n",
    "import numpy as np\n",
    "#from pandasgui import show"
   ]
  },
  {
   "cell_type": "markdown",
   "metadata": {},
   "source": [
    "#### Carga de datos"
   ]
  },
  {
   "cell_type": "code",
   "execution_count": 39,
   "metadata": {},
   "outputs": [
    {
     "data": {
      "text/html": [
       "<div>\n",
       "<style scoped>\n",
       "    .dataframe tbody tr th:only-of-type {\n",
       "        vertical-align: middle;\n",
       "    }\n",
       "\n",
       "    .dataframe tbody tr th {\n",
       "        vertical-align: top;\n",
       "    }\n",
       "\n",
       "    .dataframe thead th {\n",
       "        text-align: right;\n",
       "    }\n",
       "</style>\n",
       "<table border=\"1\" class=\"dataframe\">\n",
       "  <thead>\n",
       "    <tr style=\"text-align: right;\">\n",
       "      <th>personid</th>\n",
       "      <th>100061</th>\n",
       "      <th>100139</th>\n",
       "      <th>100284</th>\n",
       "      <th>100292</th>\n",
       "      <th>100583</th>\n",
       "    </tr>\n",
       "  </thead>\n",
       "  <tbody>\n",
       "    <tr>\n",
       "      <th>gender</th>\n",
       "      <td>Female</td>\n",
       "      <td>Male</td>\n",
       "      <td>Male</td>\n",
       "      <td>Male</td>\n",
       "      <td>Male</td>\n",
       "    </tr>\n",
       "    <tr>\n",
       "      <th>birthmonth</th>\n",
       "      <td>5</td>\n",
       "      <td>9</td>\n",
       "      <td>11</td>\n",
       "      <td>4</td>\n",
       "      <td>1</td>\n",
       "    </tr>\n",
       "    <tr>\n",
       "      <th>birthyear</th>\n",
       "      <td>1980</td>\n",
       "      <td>1983</td>\n",
       "      <td>1984</td>\n",
       "      <td>1982</td>\n",
       "      <td>1980</td>\n",
       "    </tr>\n",
       "    <tr>\n",
       "      <th>highestgradecompleted</th>\n",
       "      <td>13.0</td>\n",
       "      <td>12.0</td>\n",
       "      <td>7.0</td>\n",
       "      <td>NaN</td>\n",
       "      <td>13.0</td>\n",
       "    </tr>\n",
       "    <tr>\n",
       "      <th>maritalstatus</th>\n",
       "      <td>Married</td>\n",
       "      <td>Married</td>\n",
       "      <td>Never-married</td>\n",
       "      <td>NaN</td>\n",
       "      <td>Married</td>\n",
       "    </tr>\n",
       "    <tr>\n",
       "      <th>...</th>\n",
       "      <td>...</td>\n",
       "      <td>...</td>\n",
       "      <td>...</td>\n",
       "      <td>...</td>\n",
       "      <td>...</td>\n",
       "    </tr>\n",
       "    <tr>\n",
       "      <th>colenroct15</th>\n",
       "      <td>1. Not enrolled</td>\n",
       "      <td>1. Not enrolled</td>\n",
       "      <td>1. Not enrolled</td>\n",
       "      <td>1. Not enrolled</td>\n",
       "      <td>1. Not enrolled</td>\n",
       "    </tr>\n",
       "    <tr>\n",
       "      <th>colenrfeb16</th>\n",
       "      <td>1. Not enrolled</td>\n",
       "      <td>1. Not enrolled</td>\n",
       "      <td>1. Not enrolled</td>\n",
       "      <td>NaN</td>\n",
       "      <td>1. Not enrolled</td>\n",
       "    </tr>\n",
       "    <tr>\n",
       "      <th>colenroct16</th>\n",
       "      <td>1. Not enrolled</td>\n",
       "      <td>1. Not enrolled</td>\n",
       "      <td>1. Not enrolled</td>\n",
       "      <td>NaN</td>\n",
       "      <td>1. Not enrolled</td>\n",
       "    </tr>\n",
       "    <tr>\n",
       "      <th>colenrfeb17</th>\n",
       "      <td>1. Not enrolled</td>\n",
       "      <td>1. Not enrolled</td>\n",
       "      <td>1. Not enrolled</td>\n",
       "      <td>NaN</td>\n",
       "      <td>1. Not enrolled</td>\n",
       "    </tr>\n",
       "    <tr>\n",
       "      <th>colenroct17</th>\n",
       "      <td>1. Not enrolled</td>\n",
       "      <td>1. Not enrolled</td>\n",
       "      <td>1. Not enrolled</td>\n",
       "      <td>NaN</td>\n",
       "      <td>1. Not enrolled</td>\n",
       "    </tr>\n",
       "  </tbody>\n",
       "</table>\n",
       "<p>88 rows × 5 columns</p>\n",
       "</div>"
      ],
      "text/plain": [
       "personid                        100061           100139           100284  \\\n",
       "gender                          Female             Male             Male   \n",
       "birthmonth                           5                9               11   \n",
       "birthyear                         1980             1983             1984   \n",
       "highestgradecompleted             13.0             12.0              7.0   \n",
       "maritalstatus                  Married          Married    Never-married   \n",
       "...                                ...              ...              ...   \n",
       "colenroct15            1. Not enrolled  1. Not enrolled  1. Not enrolled   \n",
       "colenrfeb16            1. Not enrolled  1. Not enrolled  1. Not enrolled   \n",
       "colenroct16            1. Not enrolled  1. Not enrolled  1. Not enrolled   \n",
       "colenrfeb17            1. Not enrolled  1. Not enrolled  1. Not enrolled   \n",
       "colenroct17            1. Not enrolled  1. Not enrolled  1. Not enrolled   \n",
       "\n",
       "personid                        100292           100583  \n",
       "gender                            Male             Male  \n",
       "birthmonth                           4                1  \n",
       "birthyear                         1982             1980  \n",
       "highestgradecompleted              NaN             13.0  \n",
       "maritalstatus                      NaN          Married  \n",
       "...                                ...              ...  \n",
       "colenroct15            1. Not enrolled  1. Not enrolled  \n",
       "colenrfeb16                        NaN  1. Not enrolled  \n",
       "colenroct16                        NaN  1. Not enrolled  \n",
       "colenrfeb17                        NaN  1. Not enrolled  \n",
       "colenroct17                        NaN  1. Not enrolled  \n",
       "\n",
       "[88 rows x 5 columns]"
      ]
     },
     "execution_count": 39,
     "metadata": {},
     "output_type": "execute_result"
    }
   ],
   "source": [
    "nls97 = pd.read_csv(filepath_or_buffer = './data/nls97.csv', index_col = 'personid')\n",
    "# nls97.head()\n",
    "# nls97.tail()\n",
    "# nls97.info()\n",
    "# nls97.dtypes\n",
    "# nls97.shape\n",
    "nls97.head().T"
   ]
  },
  {
   "cell_type": "markdown",
   "metadata": {},
   "source": [
    "#### Selección de filas y columnas"
   ]
  },
  {
   "cell_type": "code",
   "execution_count": 36,
   "metadata": {},
   "outputs": [
    {
     "data": {
      "text/plain": [
       "(623, 2)"
      ]
     },
     "execution_count": 36,
     "metadata": {},
     "output_type": "execute_result"
    }
   ],
   "source": [
    "# Selección de filas y columnas al mismo tiempo\n",
    "lowsleep3pluschildren = \\\n",
    "  nls97.loc[(nls97.nightlyhrssleep<=lowsleepthreshold)\n",
    "    & (nls97.childathome>=3),\n",
    "    ['nightlyhrssleep','childathome']]\n",
    "lowsleep3pluschildren.shape"
   ]
  },
  {
   "cell_type": "markdown",
   "metadata": {},
   "source": [
    "#### Transformar columnas de tipo object en category"
   ]
  },
  {
   "cell_type": "code",
   "execution_count": 53,
   "metadata": {},
   "outputs": [
    {
     "data": {
      "text/plain": [
       "gender               category\n",
       "maritalstatus        category\n",
       "weeklyhrscomputer    category\n",
       "weeklyhrstv          category\n",
       "highestdegree        category\n",
       "govprovidejobs       category\n",
       "govpricecontrols     category\n",
       "dtype: object"
      ]
     },
     "execution_count": 53,
     "metadata": {},
     "output_type": "execute_result"
    }
   ],
   "source": [
    "nls97abb = nls97.iloc[:,:20]\n",
    "\n",
    "# Seleccionar columnas de tipo object y transformarlas en categorías\n",
    "catcols = nls97abb.select_dtypes( include=['object'] ).columns\n",
    "nls97abb = nls97abb[catcols].apply(lambda x: x.astype('category'))\n",
    "nls97abb.dtypes"
   ]
  },
  {
   "cell_type": "code",
   "execution_count": null,
   "metadata": {},
   "outputs": [],
   "source": []
  }
 ],
 "metadata": {
  "kernelspec": {
   "display_name": "DS-Env",
   "language": "python",
   "name": "python3"
  },
  "language_info": {
   "codemirror_mode": {
    "name": "ipython",
    "version": 3
   },
   "file_extension": ".py",
   "mimetype": "text/x-python",
   "name": "python",
   "nbconvert_exporter": "python",
   "pygments_lexer": "ipython3",
   "version": "3.10.12"
  },
  "orig_nbformat": 4
 },
 "nbformat": 4,
 "nbformat_minor": 2
}
